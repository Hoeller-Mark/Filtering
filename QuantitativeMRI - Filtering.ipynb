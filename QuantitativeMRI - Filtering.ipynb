{
 "cells": [
  {
   "cell_type": "markdown",
   "id": "6725674b-ea22-4db5-bdd6-cf09c3bc818c",
   "metadata": {},
   "source": [
    "<div>\n",
    "    <img src=\"img/Logo.png\" align=\"right\" width=\"200\"</img>\n",
    "</div>\n",
    "<br/> \n",
    "\n",
    "# Filtering"
   ]
  },
  {
   "cell_type": "markdown",
   "id": "f9af33d3-30e3-4186-b0fa-f6c4e234f58e",
   "metadata": {},
   "source": [
    "In this exercise we want to work with filters to denoise our image and to detect edges in it. "
   ]
  },
  {
   "cell_type": "markdown",
   "id": "1b89e7ca-b811-43a6-a89e-6927e9b79d23",
   "metadata": {},
   "source": [
    "## 1. Preparation"
   ]
  },
  {
   "cell_type": "markdown",
   "id": "536ea267-0dd4-4d9f-862e-89faaa6fc072",
   "metadata": {},
   "source": [
    "### 1.1 Method for general Filter Calculation"
   ]
  },
  {
   "cell_type": "markdown",
   "id": "dbe30f63-d7cc-4ecc-b8b9-d29de684e4b2",
   "metadata": {},
   "source": [
    "Write a method, that expects an image as well as a filterkernel and that computes the filtered image as shown below. \n",
    "- Keep your method as flexible as possible. \n",
    "    - e.g. image size, filter size\n",
    "- Think about how you want to handle the edges of the image."
   ]
  },
  {
   "cell_type": "markdown",
   "id": "cade6f15-bb8d-4299-ba49-16fa88598d5b",
   "metadata": {},
   "source": [
    "<center><img src=\"./img/FilterProcess.png\"></center>"
   ]
  },
  {
   "cell_type": "markdown",
   "id": "f04ea9f5-8a7c-4639-8d7e-e7fbf6b3a948",
   "metadata": {},
   "source": [
    "### <center>$f'(x,y)=\\sum \\limits_{i=-n}^{n}\\sum \\limits_{j=-m}^{m} f(x+i,y+j) \\cdot g(i,j)$</center>"
   ]
  },
  {
   "cell_type": "code",
   "execution_count": null,
   "id": "eea2f406-3747-420c-bc9d-28d72b26b2a9",
   "metadata": {},
   "outputs": [],
   "source": []
  },
  {
   "cell_type": "markdown",
   "id": "93e06c21-10e3-4f9a-a4ef-8dcb4351256e",
   "metadata": {},
   "source": [
    "### 1.2 Method for Median Filter"
   ]
  },
  {
   "cell_type": "markdown",
   "id": "07a5ba2f-a184-4940-810d-d977c2be354d",
   "metadata": {},
   "source": [
    "Write a method that expects an image and a filtersize and computes the **median filtered** image.<br>\n",
    "The main idea of the median filter is to run through the image pixel by pixel, replacing each pixel with the median of its neighboring pixels. For this, the values must be sorted within the filter. <br>The result depends on the size of the filter. When you apply the filter, use different filter sizes to see a difference. "
   ]
  },
  {
   "cell_type": "code",
   "execution_count": null,
   "id": "5159e811-0ddc-451d-85ee-16fdf3499190",
   "metadata": {},
   "outputs": [],
   "source": []
  },
  {
   "cell_type": "markdown",
   "id": "02414cf9-9084-4128-8481-0ec75393ec35",
   "metadata": {},
   "source": [
    "### 1.3 Method for Sigma Filter"
   ]
  },
  {
   "cell_type": "markdown",
   "id": "6ee4317f-12e6-478d-adee-d66b98b62a75",
   "metadata": {},
   "source": [
    "Write another method that expects an image and a filtersize and computes the **sigma filtered** image.<br>The filter smoothes an image by taking an average over the neighboring pixels, only including those pixles that have a value not deviating from the current pixel by more than a given range. The range is defined by the standard deviation of the pixel values within the neighborhood."
   ]
  },
  {
   "cell_type": "code",
   "execution_count": null,
   "id": "7ec0df6b-065e-4b3f-91d7-53c1d5bf070d",
   "metadata": {},
   "outputs": [],
   "source": []
  },
  {
   "cell_type": "markdown",
   "id": "b5797b5e-6b55-4da8-88e5-c14acd9ffc42",
   "metadata": {},
   "source": [
    "### 1.4 Generation of Salt and Pepper Noise"
   ]
  },
  {
   "cell_type": "markdown",
   "id": "4fad2a42-16cc-46c9-b0e0-ae0c4cef881c",
   "metadata": {},
   "source": [
    "To test our filters, we need to add noise to our image. With the following method you can add Salt and Pepper noise to your image. Salt and Pepper noise is added to an image by addition of both random bright (with pixel value = 255) and random dark (with pixel value = 0) all over the image."
   ]
  },
  {
   "cell_type": "markdown",
   "id": "c8c5b094-5870-466b-852b-288611b992f4",
   "metadata": {},
   "source": [
    "```python\n",
    "import numpy as np\n",
    "import random\n",
    "\n",
    "def addSaltAndPepperNoise(image, prob): #try prob=0.005\n",
    "    output = np.zeros(image.shape, np.uint8)\n",
    "    thres = 1 - prob\n",
    "    for i in range(image.shape[0]):\n",
    "        for j in range(image.shape[1]):\n",
    "            rnd = random.random()\n",
    "            if rnd < prob:\n",
    "                output[i][j] = 0\n",
    "            elif rnd > thres:\n",
    "                output[i][j] = 255\n",
    "            else:\n",
    "                output[i][j] = image[i][j]\n",
    "    return output\n",
    "```"
   ]
  },
  {
   "cell_type": "markdown",
   "id": "d3af44b0-7c34-495f-b20a-8747fce7c74f",
   "metadata": {},
   "source": [
    "## 2. Filter Application"
   ]
  },
  {
   "cell_type": "markdown",
   "id": "dc30c005-e661-401a-9afa-9bcb8d2ff373",
   "metadata": {},
   "source": [
    "First, import the sample images 'Lena.png' and 'LenaNoisy.jpg' by using to following commands:\n",
    "```python\n",
    "from PIL import Image\n",
    "image = np.array(Image.open('sample image').convert('L'))\n",
    "```"
   ]
  },
  {
   "cell_type": "code",
   "execution_count": null,
   "id": "b557ac9d-baf9-4f18-90da-64411a835b39",
   "metadata": {},
   "outputs": [],
   "source": []
  },
  {
   "cell_type": "markdown",
   "id": "e808f75b-8438-4840-a1e9-13f10d20dc74",
   "metadata": {},
   "source": [
    "### 2.1.1 Denoising - Part 1"
   ]
  },
  {
   "cell_type": "markdown",
   "id": "e6b14abc-85b9-42ec-9015-d4cecd59cca2",
   "metadata": {},
   "source": [
    "In section 1 you defined several methods to apply filter to an image. Filters can be used to denoise an image. For example, you can use a mean filter by passing the following filter kernel to your method for the general filter calculation: <br>\n",
    "<center>${g}_{mean}=\\left(\\begin{array}{ccc}\\frac{1}{9} & \\frac{1}{9} & \\frac{1}{9}\\\\ \\frac{1}{9} & \\frac{1}{9} & \\frac{1}{9}\\\\ \\frac{1}{9} & \\frac{1}{9} & \\frac{1}{9}\\end{array}\\right)$</center>"
   ]
  },
  {
   "cell_type": "markdown",
   "id": "6f2ef494-e5fe-458d-946b-9d45ba5007b9",
   "metadata": {},
   "source": [
    "Other filters are for example:<br>\n",
    "<center>${g}_{box}=\\left(\\begin{array}{ccccc}0 & 0 & 0 & 0 & 0 \\\\ 0 & 1 & 1 & 1 & 0 \\\\ 0 & 1 & 1 & 1 & 0 \\\\ 0 & 1 & 1 & 1 & 0 \\\\ 0 & 0 & 0 & 0 & 0\\end{array}\\right)\n",
    "{g}_{gaussian}=\\left(\\begin{array}{ccccc}0 & 1 & 2 & 1 & 0 \\\\ 1 & 3 & 5 & 3 & 1 \\\\ 2 & 5 & 9 & 5 & 2 \\\\ 1 & 3 & 5 & 3 & 1 \\\\ 0 & 1 & 2 & 1 & 0\\end{array}\\right)\n",
    "{g}_{laPlace}=\\left(\\begin{array}{ccccc}0 & 0 & -1 & 0 & 0 \\\\ 0 & -1 & -2 & -1 & 0 \\\\ -1 & -2 & 16 & -2 & -1 \\\\ 0 & -1 & -2 & -1 & 0 \\\\ 0 & 0 & -1 & 0 & 0\\end{array}\\right)\n",
    "{g}_{mexicanHat}=\\left(\\begin{array}{ccccccc}0&0&-1&-1&-1&0&0 \\\\ 0&-1&-3&-3&-3&-1&0 \\\\ -1&-3&0&7&0&-3&-1 \\\\ -1&-3&7&24&7&-3&-1 \\\\ -1&-3&0&7&0&-3&-1 \\\\ 0&-1&-3&-3&-3&-1&0 \\\\ 0&0&-1&-1&-1&0&0\\end{array}\\right)$</center>"
   ]
  },
  {
   "cell_type": "markdown",
   "id": "1c277bb3-a16a-4493-a131-68b060a3c5e5",
   "metadata": {},
   "source": [
    "**Apply these filters as well as the Median Filter and the Sigma Filter to the noisy image and see how they effect contrast and sharpness of the image! If possible, use different filter sizes!** "
   ]
  },
  {
   "cell_type": "code",
   "execution_count": null,
   "id": "3e1c677d-e1ad-4aa7-bfb3-9b3668b11464",
   "metadata": {},
   "outputs": [],
   "source": []
  },
  {
   "cell_type": "markdown",
   "id": "21ac54be-870d-495e-b162-c42760a47848",
   "metadata": {},
   "source": [
    "### 2.1.2 Denoising - Part 2"
   ]
  },
  {
   "cell_type": "markdown",
   "id": "303c1d80-5f83-4bdc-bd69-2b8e7605d0af",
   "metadata": {},
   "source": [
    "**Add Salt and Pepper Noise** to the sample image without noise by applying the corresponding method (try $prob=0.005$). **Which filter is suited best to denoise Salt and Pepper Noise?**"
   ]
  },
  {
   "cell_type": "code",
   "execution_count": null,
   "id": "fb37d3c1-318f-420d-8cb9-1518c0bd60f0",
   "metadata": {},
   "outputs": [],
   "source": []
  },
  {
   "cell_type": "markdown",
   "id": "7d78b6d0-137c-4b0f-9a64-41675d9c464a",
   "metadata": {},
   "source": [
    "**Optional:** Try to enhance your image even more by applying a Low-, High- or Band-Pass Filter!"
   ]
  },
  {
   "cell_type": "code",
   "execution_count": null,
   "id": "d841ad0d-d283-4c11-a54e-cb7ccae39ed0",
   "metadata": {},
   "outputs": [],
   "source": []
  },
  {
   "cell_type": "markdown",
   "id": "375c28a4-e733-4eb4-8149-8413cb428cb3",
   "metadata": {},
   "source": [
    "### 2.2 Edge Detection"
   ]
  },
  {
   "cell_type": "markdown",
   "id": "f3135709-1f0a-42de-b156-30a3f9dcfcd3",
   "metadata": {},
   "source": [
    "Apart from noise filtering, filters can also be used for edge detection. There are several filter kernel for edge detection. For example:<br>\n",
    "<center>${g}_{x}=\\left(\\begin{array}{ccc}0 & 0 & 0\\\\ -1 & 1 & 0\\\\ 0 & 0 & 0\\end{array}\\right)$\n",
    "${g}_{y}=\\left(\\begin{array}{ccc}0 & -1 & 0\\\\ 0 & 1 & 0\\\\ 0 & 0 & 0\\end{array}\\right)$</center>\n",
    "<br>\n",
    "Roberts Operator (no smoothing, sensitive to noise): <br>\n",
    "<center>${g}_{1}=\\left(\\begin{array}{ccc}0 & -1 & 0\\\\ 1 & 0 & 0\\\\ 0 & 0 & 0\\end{array}\\right)$\n",
    "${g}_{2}=\\left(\\begin{array}{ccc}-1 & 0 & 0\\\\ 0 & 1 & 0\\\\ 0 & 0 & 0\\end{array}\\right)$</center>\n",
    "<br>\n",
    "Prewitt Operator: <br>\n",
    "<center>${g}_{x}=\\left(\\begin{array}{ccc}-1 & 0 & 1\\\\ -1 & 0 & 1\\\\ -1 & 0 & 1\\end{array}\\right)$\n",
    "${g}_{y}=\\left(\\begin{array}{ccc}-1 & -1 & -1\\\\ 0 & 0 & 0\\\\ 1 & 1 & 1\\end{array}\\right)$</center>\n",
    "<br>\n",
    "Sobel Operator with weights: <br>\n",
    "<center>${g}_{x}=\\left(\\begin{array}{ccc}-1 & 0 & 1\\\\ -2 & 0 & 2\\\\ -1 & 0 & 1\\end{array}\\right)$\n",
    "${g}_{y}=\\left(\\begin{array}{ccc}-1 & -2 & -1\\\\ 0 & 0 & 0\\\\ 1 & 2 & 1\\end{array}\\right)$</center>\n",
    "<br>\n",
    "Prewitt and Sobel use neighboring pixels for smoothing."
   ]
  },
  {
   "cell_type": "markdown",
   "id": "49b245ec-b45d-4d8e-96fd-46aaf7524feb",
   "metadata": {},
   "source": [
    "Try to **detect edges** in the sample image without noise by using the different kernels. What differences do you see?"
   ]
  },
  {
   "cell_type": "code",
   "execution_count": null,
   "id": "5752ea61-e8b6-4377-b7c8-c5915d3e005d",
   "metadata": {},
   "outputs": [],
   "source": []
  },
  {
   "cell_type": "markdown",
   "id": "3a6c20c4-2a1b-4c1b-a344-b26d19f059b9",
   "metadata": {},
   "source": [
    "**Combine the x and y filtered images** by calculating the Gradient image as follows. Write yourself a method for this.<br>\n",
    "### <center>$G=\\sqrt{{{G}_{x}}^{2} + {{G}_{y}}^{2}}$</center>"
   ]
  },
  {
   "cell_type": "code",
   "execution_count": null,
   "id": "82cba695-878b-495d-b62c-e0bc85022544",
   "metadata": {},
   "outputs": [],
   "source": []
  },
  {
   "cell_type": "markdown",
   "id": "63c8a01a-e695-4bb8-9cee-7f1b830f8ea5",
   "metadata": {},
   "source": [
    "### 2.3 Edge Detection in Noisy Images"
   ]
  },
  {
   "cell_type": "markdown",
   "id": "9ea2d970-741e-45f9-b213-256265877b6e",
   "metadata": {},
   "source": [
    "**Apply the** previously used **edge detection filters to the noisy sample image**. What **problems** do you have to deal with?"
   ]
  },
  {
   "cell_type": "code",
   "execution_count": null,
   "id": "9fa43fdc-407b-4fb0-95ab-87251607d2c1",
   "metadata": {},
   "outputs": [],
   "source": []
  },
  {
   "cell_type": "markdown",
   "id": "12582ccf-0b47-427e-9a83-f576692d59af",
   "metadata": {},
   "source": [
    "Sometimes it makes sense to smooth noisy images before you can detect edges. For example, you can apply the Mean Filter or a Gaussian Blur Filter (e.g. ```import cv2, cv2.GaussianBlur(image,(5,5),0)```) to the noisy image. **Now first smooth the image before trying to detect the edges.**"
   ]
  },
  {
   "cell_type": "code",
   "execution_count": null,
   "id": "6bbc3347-adfa-4c5a-84fd-2839588de65c",
   "metadata": {},
   "outputs": [],
   "source": []
  }
 ],
 "metadata": {
  "kernelspec": {
   "display_name": "Python 3",
   "language": "python",
   "name": "python3"
  },
  "language_info": {
   "codemirror_mode": {
    "name": "ipython",
    "version": 3
   },
   "file_extension": ".py",
   "mimetype": "text/x-python",
   "name": "python",
   "nbconvert_exporter": "python",
   "pygments_lexer": "ipython3",
   "version": "3.9.2"
  }
 },
 "nbformat": 4,
 "nbformat_minor": 5
}
